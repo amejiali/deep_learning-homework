{
 "cells": [
  {
   "cell_type": "markdown",
   "metadata": {},
   "source": [
    "# LSTM Stock Predictor Using Fear and Greed Index\n",
    "\n",
    "In this notebook, you will build and train a custom LSTM RNN that uses a 10 day window of Bitcoin fear and greed index values to predict the 11th day closing price. \n",
    "\n",
    "You will need to:\n",
    "\n",
    "1. Prepare the data for training and testing\n",
    "2. Build and train a custom LSTM RNN\n",
    "3. Evaluate the performance of the model"
   ]
  },
  {
   "cell_type": "markdown",
   "metadata": {},
   "source": [
    "## Data Preparation\n",
    "\n",
    "In this section, you will need to prepare the training and testing data for the model. The model will use a rolling 10 day window to predict the 11th day closing price.\n",
    "\n",
    "You will need to:\n",
    "1. Use the `window_data` function to generate the X and y values for the model.\n",
    "2. Split the data into 70% training and 30% testing\n",
    "3. Apply the MinMaxScaler to the X and y values\n",
    "4. Reshape the X_train and X_test data for the model. Note: The required input format for the LSTM is:\n",
    "\n",
    "```python\n",
    "reshape((X_train.shape[0], X_train.shape[1], 1))\n",
    "```"
   ]
  },
  {
   "cell_type": "code",
   "execution_count": 65,
   "metadata": {},
   "outputs": [],
   "source": [
    "import numpy as np\n",
    "import pandas as pd\n",
    "import hvplot.pandas\n",
    "\n",
    "%matplotlib inline"
   ]
  },
  {
   "cell_type": "code",
   "execution_count": 66,
   "metadata": {},
   "outputs": [],
   "source": [
    "# Set the random seed for reproducibility\n",
    "# Note: This is for the homework solution, but it is good practice to comment this out and run multiple experiments to evaluate your model\n",
    "from numpy.random import seed\n",
    "seed(1)\n",
    "from tensorflow import random\n",
    "random.set_seed(2)"
   ]
  },
  {
   "cell_type": "code",
   "execution_count": 67,
   "metadata": {},
   "outputs": [
    {
     "data": {
      "text/html": [
       "<div>\n",
       "<style scoped>\n",
       "    .dataframe tbody tr th:only-of-type {\n",
       "        vertical-align: middle;\n",
       "    }\n",
       "\n",
       "    .dataframe tbody tr th {\n",
       "        vertical-align: top;\n",
       "    }\n",
       "\n",
       "    .dataframe thead th {\n",
       "        text-align: right;\n",
       "    }\n",
       "</style>\n",
       "<table border=\"1\" class=\"dataframe\">\n",
       "  <thead>\n",
       "    <tr style=\"text-align: right;\">\n",
       "      <th></th>\n",
       "      <th>fng_value</th>\n",
       "    </tr>\n",
       "    <tr>\n",
       "      <th>date</th>\n",
       "      <th></th>\n",
       "    </tr>\n",
       "  </thead>\n",
       "  <tbody>\n",
       "    <tr>\n",
       "      <th>2019-07-29</th>\n",
       "      <td>19</td>\n",
       "    </tr>\n",
       "    <tr>\n",
       "      <th>2019-07-28</th>\n",
       "      <td>16</td>\n",
       "    </tr>\n",
       "    <tr>\n",
       "      <th>2019-07-27</th>\n",
       "      <td>47</td>\n",
       "    </tr>\n",
       "    <tr>\n",
       "      <th>2019-07-26</th>\n",
       "      <td>24</td>\n",
       "    </tr>\n",
       "    <tr>\n",
       "      <th>2019-07-25</th>\n",
       "      <td>42</td>\n",
       "    </tr>\n",
       "  </tbody>\n",
       "</table>\n",
       "</div>"
      ],
      "text/plain": [
       "             fng_value\n",
       "date                  \n",
       "2019-07-29          19\n",
       "2019-07-28          16\n",
       "2019-07-27          47\n",
       "2019-07-26          24\n",
       "2019-07-25          42"
      ]
     },
     "execution_count": 67,
     "metadata": {},
     "output_type": "execute_result"
    }
   ],
   "source": [
    "# Load the fear and greed sentiment data for Bitcoin\n",
    "df = pd.read_csv('btc_sentiment.csv', index_col=\"date\", infer_datetime_format=True, parse_dates=True)\n",
    "df = df.drop(columns=\"fng_classification\")\n",
    "df.head()"
   ]
  },
  {
   "cell_type": "code",
   "execution_count": 68,
   "metadata": {},
   "outputs": [
    {
     "data": {
      "text/plain": [
       "Date\n",
       "2019-07-25    9882.429688\n",
       "2019-07-26    9847.450195\n",
       "2019-07-27    9478.320313\n",
       "2019-07-28    9531.769531\n",
       "2019-07-29    9529.889648\n",
       "Name: Close, dtype: float64"
      ]
     },
     "execution_count": 68,
     "metadata": {},
     "output_type": "execute_result"
    }
   ],
   "source": [
    "# Load the historical closing prices for Bitcoin\n",
    "df2 = pd.read_csv('btc_historic.csv', index_col=\"Date\", infer_datetime_format=True, parse_dates=True)['Close']\n",
    "df2 = df2.sort_index()\n",
    "df2.tail()"
   ]
  },
  {
   "cell_type": "code",
   "execution_count": 69,
   "metadata": {},
   "outputs": [
    {
     "data": {
      "text/html": [
       "<div>\n",
       "<style scoped>\n",
       "    .dataframe tbody tr th:only-of-type {\n",
       "        vertical-align: middle;\n",
       "    }\n",
       "\n",
       "    .dataframe tbody tr th {\n",
       "        vertical-align: top;\n",
       "    }\n",
       "\n",
       "    .dataframe thead th {\n",
       "        text-align: right;\n",
       "    }\n",
       "</style>\n",
       "<table border=\"1\" class=\"dataframe\">\n",
       "  <thead>\n",
       "    <tr style=\"text-align: right;\">\n",
       "      <th></th>\n",
       "      <th>fng_value</th>\n",
       "      <th>Close</th>\n",
       "    </tr>\n",
       "  </thead>\n",
       "  <tbody>\n",
       "    <tr>\n",
       "      <th>2019-07-25</th>\n",
       "      <td>42</td>\n",
       "      <td>9882.429688</td>\n",
       "    </tr>\n",
       "    <tr>\n",
       "      <th>2019-07-26</th>\n",
       "      <td>24</td>\n",
       "      <td>9847.450195</td>\n",
       "    </tr>\n",
       "    <tr>\n",
       "      <th>2019-07-27</th>\n",
       "      <td>47</td>\n",
       "      <td>9478.320313</td>\n",
       "    </tr>\n",
       "    <tr>\n",
       "      <th>2019-07-28</th>\n",
       "      <td>16</td>\n",
       "      <td>9531.769531</td>\n",
       "    </tr>\n",
       "    <tr>\n",
       "      <th>2019-07-29</th>\n",
       "      <td>19</td>\n",
       "      <td>9529.889648</td>\n",
       "    </tr>\n",
       "  </tbody>\n",
       "</table>\n",
       "</div>"
      ],
      "text/plain": [
       "             fng_value        Close\n",
       "2019-07-25          42  9882.429688\n",
       "2019-07-26          24  9847.450195\n",
       "2019-07-27          47  9478.320313\n",
       "2019-07-28          16  9531.769531\n",
       "2019-07-29          19  9529.889648"
      ]
     },
     "execution_count": 69,
     "metadata": {},
     "output_type": "execute_result"
    }
   ],
   "source": [
    "# Join the data into a single DataFrame\n",
    "df = df.join(df2, how=\"inner\")\n",
    "df.tail()"
   ]
  },
  {
   "cell_type": "code",
   "execution_count": 70,
   "metadata": {},
   "outputs": [
    {
     "data": {
      "text/html": [
       "<div>\n",
       "<style scoped>\n",
       "    .dataframe tbody tr th:only-of-type {\n",
       "        vertical-align: middle;\n",
       "    }\n",
       "\n",
       "    .dataframe tbody tr th {\n",
       "        vertical-align: top;\n",
       "    }\n",
       "\n",
       "    .dataframe thead th {\n",
       "        text-align: right;\n",
       "    }\n",
       "</style>\n",
       "<table border=\"1\" class=\"dataframe\">\n",
       "  <thead>\n",
       "    <tr style=\"text-align: right;\">\n",
       "      <th></th>\n",
       "      <th>fng_value</th>\n",
       "      <th>Close</th>\n",
       "    </tr>\n",
       "  </thead>\n",
       "  <tbody>\n",
       "    <tr>\n",
       "      <th>2018-02-01</th>\n",
       "      <td>30</td>\n",
       "      <td>9114.719727</td>\n",
       "    </tr>\n",
       "    <tr>\n",
       "      <th>2018-02-02</th>\n",
       "      <td>15</td>\n",
       "      <td>8870.820313</td>\n",
       "    </tr>\n",
       "    <tr>\n",
       "      <th>2018-02-03</th>\n",
       "      <td>40</td>\n",
       "      <td>9251.269531</td>\n",
       "    </tr>\n",
       "    <tr>\n",
       "      <th>2018-02-04</th>\n",
       "      <td>24</td>\n",
       "      <td>8218.049805</td>\n",
       "    </tr>\n",
       "    <tr>\n",
       "      <th>2018-02-05</th>\n",
       "      <td>11</td>\n",
       "      <td>6937.080078</td>\n",
       "    </tr>\n",
       "  </tbody>\n",
       "</table>\n",
       "</div>"
      ],
      "text/plain": [
       "             fng_value        Close\n",
       "2018-02-01          30  9114.719727\n",
       "2018-02-02          15  8870.820313\n",
       "2018-02-03          40  9251.269531\n",
       "2018-02-04          24  8218.049805\n",
       "2018-02-05          11  6937.080078"
      ]
     },
     "execution_count": 70,
     "metadata": {},
     "output_type": "execute_result"
    }
   ],
   "source": [
    "df.head()"
   ]
  },
  {
   "cell_type": "code",
   "execution_count": 71,
   "metadata": {},
   "outputs": [],
   "source": [
    "# This function accepts the column number for the features (X) and the target (y)\n",
    "# It chunks the data up with a rolling window of Xt-n to predict Xt\n",
    "# It returns a numpy array of X any y\n",
    "def window_data(df, window, feature_col_number, target_col_number):\n",
    "    X = []\n",
    "    y = []\n",
    "    for i in range(len(df) - window - 1):\n",
    "        features = df.iloc[i:(i + window), feature_col_number]\n",
    "        target = df.iloc[(i + window), target_col_number]\n",
    "        X.append(features)\n",
    "        y.append(target)\n",
    "    return np.array(X), np.array(y).reshape(-1, 1)"
   ]
  },
  {
   "cell_type": "code",
   "execution_count": 72,
   "metadata": {},
   "outputs": [
    {
     "name": "stdout",
     "output_type": "stream",
     "text": [
      "X sample values:\n",
      "[[30 15 40 24 11  8 36 30 44 54]\n",
      " [15 40 24 11  8 36 30 44 54 31]\n",
      " [40 24 11  8 36 30 44 54 31 42]\n",
      " [24 11  8 36 30 44 54 31 42 35]\n",
      " [11  8 36 30 44 54 31 42 35 55]] \n",
      "\n",
      "y sample values:\n",
      "[[31.]\n",
      " [42.]\n",
      " [35.]\n",
      " [55.]\n",
      " [71.]]\n"
     ]
    }
   ],
   "source": [
    "# Predict Closing Prices using a 10 day window of fear and greed index values and a target of the 11th day closing price\n",
    "# Try a window size anywhere from 1 to 10 and see how the model performance changes\n",
    "window_size = 10\n",
    "\n",
    "# Column index 1 is the `Close` column\n",
    "feature_column = 0\n",
    "target_column = 0\n",
    "X, y = window_data(df, window_size, feature_column, target_column)\n",
    "\n",
    "print (f\"X sample values:\\n{X[:5]} \\n\")\n",
    "print (f\"y sample values:\\n{y[:5]}\")"
   ]
  },
  {
   "cell_type": "code",
   "execution_count": 73,
   "metadata": {},
   "outputs": [],
   "source": [
    "# Use 70% of the data for training and the remainder for testing\n",
    "# YOUR CODE HERE!\n",
    "split = int(0.7 * len(X))\n",
    "X_train = X[: split - 1]\n",
    "X_test = X[split:]\n",
    "y_train = y[: split - 1]\n",
    "y_test = y[split:]"
   ]
  },
  {
   "cell_type": "code",
   "execution_count": 74,
   "metadata": {},
   "outputs": [],
   "source": [
    "# Use MinMaxScaler to scale the data between 0 and 1. \n",
    "# YOUR CODE HERE!\n",
    "from sklearn.preprocessing import MinMaxScaler\n",
    "\n",
    "scaler = MinMaxScaler()\n",
    "scaler.fit(X)\n",
    "X_train = scaler.transform(X_train)\n",
    "X_test = scaler.transform(X_test)\n",
    "scaler.fit(y)\n",
    "y_train = scaler.transform(y_train)\n",
    "y_test = scaler.transform(y_test)"
   ]
  },
  {
   "cell_type": "code",
   "execution_count": 75,
   "metadata": {},
   "outputs": [
    {
     "name": "stdout",
     "output_type": "stream",
     "text": [
      "X_train sample values:\n",
      "[[[0.25287356]\n",
      "  [0.08045977]\n",
      "  [0.36781609]\n",
      "  [0.18390805]\n",
      "  [0.03448276]\n",
      "  [0.        ]\n",
      "  [0.31395349]\n",
      "  [0.24418605]\n",
      "  [0.40697674]\n",
      "  [0.52325581]]\n",
      "\n",
      " [[0.08045977]\n",
      "  [0.36781609]\n",
      "  [0.18390805]\n",
      "  [0.03448276]\n",
      "  [0.        ]\n",
      "  [0.32183908]\n",
      "  [0.24418605]\n",
      "  [0.40697674]\n",
      "  [0.52325581]\n",
      "  [0.25581395]]\n",
      "\n",
      " [[0.36781609]\n",
      "  [0.18390805]\n",
      "  [0.03448276]\n",
      "  [0.        ]\n",
      "  [0.32183908]\n",
      "  [0.25287356]\n",
      "  [0.40697674]\n",
      "  [0.52325581]\n",
      "  [0.25581395]\n",
      "  [0.38372093]]\n",
      "\n",
      " [[0.18390805]\n",
      "  [0.03448276]\n",
      "  [0.        ]\n",
      "  [0.32183908]\n",
      "  [0.25287356]\n",
      "  [0.4137931 ]\n",
      "  [0.52325581]\n",
      "  [0.25581395]\n",
      "  [0.38372093]\n",
      "  [0.30232558]]\n",
      "\n",
      " [[0.03448276]\n",
      "  [0.        ]\n",
      "  [0.32183908]\n",
      "  [0.25287356]\n",
      "  [0.4137931 ]\n",
      "  [0.52873563]\n",
      "  [0.25581395]\n",
      "  [0.38372093]\n",
      "  [0.30232558]\n",
      "  [0.53488372]]] \n",
      "\n",
      "X_test sample values:\n",
      "[[[0.36781609]\n",
      "  [0.43678161]\n",
      "  [0.34482759]\n",
      "  [0.45977011]\n",
      "  [0.45977011]\n",
      "  [0.40229885]\n",
      "  [0.39534884]\n",
      "  [0.37209302]\n",
      "  [0.3372093 ]\n",
      "  [0.62790698]]\n",
      "\n",
      " [[0.43678161]\n",
      "  [0.34482759]\n",
      "  [0.45977011]\n",
      "  [0.45977011]\n",
      "  [0.40229885]\n",
      "  [0.40229885]\n",
      "  [0.37209302]\n",
      "  [0.3372093 ]\n",
      "  [0.62790698]\n",
      "  [0.65116279]]\n",
      "\n",
      " [[0.34482759]\n",
      "  [0.45977011]\n",
      "  [0.45977011]\n",
      "  [0.40229885]\n",
      "  [0.40229885]\n",
      "  [0.37931034]\n",
      "  [0.3372093 ]\n",
      "  [0.62790698]\n",
      "  [0.65116279]\n",
      "  [0.58139535]]\n",
      "\n",
      " [[0.45977011]\n",
      "  [0.45977011]\n",
      "  [0.40229885]\n",
      "  [0.40229885]\n",
      "  [0.37931034]\n",
      "  [0.34482759]\n",
      "  [0.62790698]\n",
      "  [0.65116279]\n",
      "  [0.58139535]\n",
      "  [0.58139535]]\n",
      "\n",
      " [[0.45977011]\n",
      "  [0.40229885]\n",
      "  [0.40229885]\n",
      "  [0.37931034]\n",
      "  [0.34482759]\n",
      "  [0.63218391]\n",
      "  [0.65116279]\n",
      "  [0.58139535]\n",
      "  [0.58139535]\n",
      "  [0.60465116]]]\n"
     ]
    }
   ],
   "source": [
    "# Reshape the features for the model\n",
    "# YOUR CODE HERE!\n",
    "X_train = X_train.reshape((X_train.shape[0], X_train.shape[1], 1))\n",
    "X_test = X_test.reshape((X_test.shape[0], X_test.shape[1], 1))\n",
    "\n",
    "print (f\"X_train sample values:\\n{X_train[:5]} \\n\")\n",
    "print (f\"X_test sample values:\\n{X_test[:5]}\")"
   ]
  },
  {
   "cell_type": "markdown",
   "metadata": {},
   "source": [
    "---"
   ]
  },
  {
   "cell_type": "markdown",
   "metadata": {},
   "source": [
    "## Build and Train the LSTM RNN\n",
    "\n",
    "In this section, you will design a custom LSTM RNN and fit (train) it using the training data.\n",
    "\n",
    "You will need to:\n",
    "1. Define the model architecture\n",
    "2. Compile the model\n",
    "3. Fit the model to the training data\n",
    "\n",
    "### Hints:\n",
    "You will want to use the same model architecture and random seed for both notebooks. This is necessary to accurately compare the performance of the FNG model vs the closing price model. "
   ]
  },
  {
   "cell_type": "code",
   "execution_count": 76,
   "metadata": {},
   "outputs": [],
   "source": [
    "from tensorflow.keras.models import Sequential\n",
    "from tensorflow.keras.layers import LSTM, Dense, Dropout"
   ]
  },
  {
   "cell_type": "code",
   "execution_count": 77,
   "metadata": {},
   "outputs": [],
   "source": [
    "# Build the LSTM model. \n",
    "# The return sequences need to be set to True if you are adding additional LSTM layers, but \n",
    "# You don't have to do this for the final layer. \n",
    "# YOUR CODE HERE!\n",
    "\n",
    "model = Sequential()\n",
    "\n",
    "number_units = 10\n",
    "dropout_fraction = 0.2\n",
    "\n",
    "# Layer 1\n",
    "model.add(LSTM(\n",
    "    units=number_units,\n",
    "    return_sequences=True,\n",
    "    input_shape=(X_train.shape[1], 1))\n",
    "    )\n",
    "model.add(Dropout(dropout_fraction))\n",
    "# Layer 2\n",
    "model.add(LSTM(units=number_units, return_sequences=True))\n",
    "model.add(Dropout(dropout_fraction))\n",
    "# Layer 3\n",
    "model.add(LSTM(units=number_units))\n",
    "model.add(Dropout(dropout_fraction))\n",
    "# Output layer\n",
    "model.add(Dense(1))\n"
   ]
  },
  {
   "cell_type": "code",
   "execution_count": 78,
   "metadata": {},
   "outputs": [],
   "source": [
    "# Compile the model\n",
    "# YOUR CODE HERE!\n",
    "model.compile(optimizer=\"adam\", loss=\"mean_squared_error\")"
   ]
  },
  {
   "cell_type": "code",
   "execution_count": 79,
   "metadata": {},
   "outputs": [
    {
     "name": "stdout",
     "output_type": "stream",
     "text": [
      "Model: \"sequential_3\"\n",
      "_________________________________________________________________\n",
      "Layer (type)                 Output Shape              Param #   \n",
      "=================================================================\n",
      "lstm_9 (LSTM)                (None, 10, 10)            480       \n",
      "_________________________________________________________________\n",
      "dropout_9 (Dropout)          (None, 10, 10)            0         \n",
      "_________________________________________________________________\n",
      "lstm_10 (LSTM)               (None, 10, 10)            840       \n",
      "_________________________________________________________________\n",
      "dropout_10 (Dropout)         (None, 10, 10)            0         \n",
      "_________________________________________________________________\n",
      "lstm_11 (LSTM)               (None, 10)                840       \n",
      "_________________________________________________________________\n",
      "dropout_11 (Dropout)         (None, 10)                0         \n",
      "_________________________________________________________________\n",
      "dense_3 (Dense)              (None, 1)                 11        \n",
      "=================================================================\n",
      "Total params: 2,171\n",
      "Trainable params: 2,171\n",
      "Non-trainable params: 0\n",
      "_________________________________________________________________\n"
     ]
    }
   ],
   "source": [
    "# Summarize the model\n",
    "# YOUR CODE HERE!\n",
    "model.summary()"
   ]
  },
  {
   "cell_type": "code",
   "execution_count": 80,
   "metadata": {},
   "outputs": [
    {
     "name": "stdout",
     "output_type": "stream",
     "text": [
      "Train on 371 samples\n",
      "Epoch 1/50\n",
      "371/371 [==============================] - 17s 47ms/sample - loss: 0.0316\n",
      "Epoch 2/50\n",
      "371/371 [==============================] - 10s 28ms/sample - loss: 0.0233\n",
      "Epoch 3/50\n",
      "371/371 [==============================] - 9s 23ms/sample - loss: 0.0234\n",
      "Epoch 4/50\n",
      "371/371 [==============================] - 9s 24ms/sample - loss: 0.0201\n",
      "Epoch 5/50\n",
      "371/371 [==============================] - 9s 23ms/sample - loss: 0.0187\n",
      "Epoch 6/50\n",
      "371/371 [==============================] - 9s 24ms/sample - loss: 0.0170\n",
      "Epoch 7/50\n",
      "371/371 [==============================] - 9s 24ms/sample - loss: 0.0136\n",
      "Epoch 8/50\n",
      "371/371 [==============================] - 9s 23ms/sample - loss: 0.0105\n",
      "Epoch 9/50\n",
      "371/371 [==============================] - 9s 23ms/sample - loss: 0.0104\n",
      "Epoch 10/50\n",
      "371/371 [==============================] - 9s 24ms/sample - loss: 0.0092\n",
      "Epoch 11/50\n",
      "371/371 [==============================] - 9s 24ms/sample - loss: 0.0088\n",
      "Epoch 12/50\n",
      "371/371 [==============================] - 11s 29ms/sample - loss: 0.0096\n",
      "Epoch 13/50\n",
      "371/371 [==============================] - 9s 26ms/sample - loss: 0.0091\n",
      "Epoch 14/50\n",
      "371/371 [==============================] - 9s 25ms/sample - loss: 0.0089\n",
      "Epoch 15/50\n",
      "371/371 [==============================] - 9s 24ms/sample - loss: 0.00850s - lo\n",
      "Epoch 16/50\n",
      "371/371 [==============================] - 9s 23ms/sample - loss: 0.0076\n",
      "Epoch 17/50\n",
      "371/371 [==============================] - 9s 24ms/sample - loss: 0.0078\n",
      "Epoch 18/50\n",
      "371/371 [==============================] - 9s 24ms/sample - loss: 0.0080\n",
      "Epoch 19/50\n",
      "371/371 [==============================] - 10s 26ms/sample - loss: 0.0077\n",
      "Epoch 20/50\n",
      "371/371 [==============================] - 8s 21ms/sample - loss: 0.0080\n",
      "Epoch 21/50\n",
      "371/371 [==============================] - 8s 21ms/sample - loss: 0.0081\n",
      "Epoch 22/50\n",
      "371/371 [==============================] - 8s 21ms/sample - loss: 0.0079\n",
      "Epoch 23/50\n",
      "371/371 [==============================] - 8s 22ms/sample - loss: 0.0074\n",
      "Epoch 24/50\n",
      "371/371 [==============================] - 9s 24ms/sample - loss: 0.0067\n",
      "Epoch 25/50\n",
      "371/371 [==============================] - 9s 24ms/sample - loss: 0.0068\n",
      "Epoch 26/50\n",
      "371/371 [==============================] - 9s 24ms/sample - loss: 0.0074\n",
      "Epoch 27/50\n",
      "371/371 [==============================] - 9s 25ms/sample - loss: 0.0075\n",
      "Epoch 28/50\n",
      "371/371 [==============================] - 10s 28ms/sample - loss: 0.0068\n",
      "Epoch 29/50\n",
      "371/371 [==============================] - 10s 26ms/sample - loss: 0.0070\n",
      "Epoch 30/50\n",
      "371/371 [==============================] - 9s 25ms/sample - loss: 0.0070\n",
      "Epoch 31/50\n",
      "371/371 [==============================] - 9s 24ms/sample - loss: 0.0072\n",
      "Epoch 32/50\n",
      "371/371 [==============================] - 9s 24ms/sample - loss: 0.0068\n",
      "Epoch 33/50\n",
      "371/371 [==============================] - 10s 26ms/sample - loss: 0.0065\n",
      "Epoch 34/50\n",
      "371/371 [==============================] - 10s 27ms/sample - loss: 0.0067\n",
      "Epoch 35/50\n",
      "371/371 [==============================] - 9s 25ms/sample - loss: 0.0066\n",
      "Epoch 36/50\n",
      "371/371 [==============================] - 11s 29ms/sample - loss: 0.0073\n",
      "Epoch 37/50\n",
      "371/371 [==============================] - 11s 29ms/sample - loss: 0.0068\n",
      "Epoch 38/50\n",
      "371/371 [==============================] - 9s 25ms/sample - loss: 0.0072\n",
      "Epoch 39/50\n",
      "371/371 [==============================] - 9s 23ms/sample - loss: 0.0068\n",
      "Epoch 40/50\n",
      "371/371 [==============================] - 10s 27ms/sample - loss: 0.0063\n",
      "Epoch 41/50\n",
      "371/371 [==============================] - 9s 23ms/sample - loss: 0.0067\n",
      "Epoch 42/50\n",
      "371/371 [==============================] - 9s 24ms/sample - loss: 0.0068\n",
      "Epoch 43/50\n",
      "371/371 [==============================] - 9s 24ms/sample - loss: 0.0062\n",
      "Epoch 44/50\n",
      "371/371 [==============================] - 7s 19ms/sample - loss: 0.0066\n",
      "Epoch 45/50\n",
      "371/371 [==============================] - 7s 18ms/sample - loss: 0.0068\n",
      "Epoch 46/50\n",
      "371/371 [==============================] - 6s 17ms/sample - loss: 0.0061\n",
      "Epoch 47/50\n",
      "371/371 [==============================] - 7s 18ms/sample - loss: 0.0065\n",
      "Epoch 48/50\n",
      "371/371 [==============================] - 6s 17ms/sample - loss: 0.0065\n",
      "Epoch 49/50\n",
      "371/371 [==============================] - 6s 17ms/sample - loss: 0.0064\n",
      "Epoch 50/50\n",
      "371/371 [==============================] - 7s 18ms/sample - loss: 0.0068\n"
     ]
    },
    {
     "data": {
      "text/plain": [
       "<tensorflow.python.keras.callbacks.History at 0x1a3ef1e650>"
      ]
     },
     "execution_count": 80,
     "metadata": {},
     "output_type": "execute_result"
    }
   ],
   "source": [
    "# Train the model\n",
    "# Use at least 10 epochs\n",
    "# Do not shuffle the data\n",
    "# Experiement with the batch size, but a smaller batch size is recommended\n",
    "# YOUR CODE HERE!\n",
    "model.fit(X_train, y_train, epochs=50, shuffle=False, batch_size=1, verbose=1)\n"
   ]
  },
  {
   "cell_type": "markdown",
   "metadata": {},
   "source": [
    "---"
   ]
  },
  {
   "cell_type": "markdown",
   "metadata": {},
   "source": [
    "## Model Performance\n",
    "\n",
    "In this section, you will evaluate the model using the test data. \n",
    "\n",
    "You will need to:\n",
    "1. Evaluate the model using the `X_test` and `y_test` data.\n",
    "2. Use the X_test data to make predictions\n",
    "3. Create a DataFrame of Real (y_test) vs predicted values. \n",
    "4. Plot the Real vs predicted values as a line chart\n",
    "\n",
    "### Hints\n",
    "Remember to apply the `inverse_transform` function to the predicted and y_test values to recover the actual closing prices."
   ]
  },
  {
   "cell_type": "code",
   "execution_count": 81,
   "metadata": {},
   "outputs": [
    {
     "name": "stdout",
     "output_type": "stream",
     "text": [
      "160/160 [==============================] - 2s 9ms/sample - loss: 0.0237\n"
     ]
    },
    {
     "data": {
      "text/plain": [
       "0.023698555305600166"
      ]
     },
     "execution_count": 81,
     "metadata": {},
     "output_type": "execute_result"
    }
   ],
   "source": [
    "# Evaluate the model\n",
    "# YOUR CODE HERE!\n",
    "model.evaluate(X_test, y_test)"
   ]
  },
  {
   "cell_type": "code",
   "execution_count": 82,
   "metadata": {},
   "outputs": [],
   "source": [
    "# Make some predictions\n",
    "# YOUR CODE HERE!\n",
    "predicted = model.predict(X_test)"
   ]
  },
  {
   "cell_type": "code",
   "execution_count": 83,
   "metadata": {},
   "outputs": [],
   "source": [
    "# Recover the original prices instead of the scaled version\n",
    "predicted_prices = scaler.inverse_transform(predicted)\n",
    "real_prices = scaler.inverse_transform(y_test.reshape(-1, 1))"
   ]
  },
  {
   "cell_type": "code",
   "execution_count": 84,
   "metadata": {},
   "outputs": [
    {
     "data": {
      "text/html": [
       "<div>\n",
       "<style scoped>\n",
       "    .dataframe tbody tr th:only-of-type {\n",
       "        vertical-align: middle;\n",
       "    }\n",
       "\n",
       "    .dataframe tbody tr th {\n",
       "        vertical-align: top;\n",
       "    }\n",
       "\n",
       "    .dataframe thead th {\n",
       "        text-align: right;\n",
       "    }\n",
       "</style>\n",
       "<table border=\"1\" class=\"dataframe\">\n",
       "  <thead>\n",
       "    <tr style=\"text-align: right;\">\n",
       "      <th></th>\n",
       "      <th>Real</th>\n",
       "      <th>Predicted</th>\n",
       "    </tr>\n",
       "  </thead>\n",
       "  <tbody>\n",
       "    <tr>\n",
       "      <th>0</th>\n",
       "      <td>65.0</td>\n",
       "      <td>50.275356</td>\n",
       "    </tr>\n",
       "    <tr>\n",
       "      <th>1</th>\n",
       "      <td>59.0</td>\n",
       "      <td>56.025223</td>\n",
       "    </tr>\n",
       "    <tr>\n",
       "      <th>2</th>\n",
       "      <td>59.0</td>\n",
       "      <td>54.822922</td>\n",
       "    </tr>\n",
       "    <tr>\n",
       "      <th>3</th>\n",
       "      <td>61.0</td>\n",
       "      <td>53.750523</td>\n",
       "    </tr>\n",
       "    <tr>\n",
       "      <th>4</th>\n",
       "      <td>63.0</td>\n",
       "      <td>53.572430</td>\n",
       "    </tr>\n",
       "  </tbody>\n",
       "</table>\n",
       "</div>"
      ],
      "text/plain": [
       "   Real  Predicted\n",
       "0  65.0  50.275356\n",
       "1  59.0  56.025223\n",
       "2  59.0  54.822922\n",
       "3  61.0  53.750523\n",
       "4  63.0  53.572430"
      ]
     },
     "execution_count": 84,
     "metadata": {},
     "output_type": "execute_result"
    }
   ],
   "source": [
    "# Create a DataFrame of Real and Predicted values\n",
    "stocks = pd.DataFrame({\n",
    "    \"Real\": real_prices.ravel(),\n",
    "    \"Predicted\": predicted_prices.ravel()\n",
    "})\n",
    "stocks.head()"
   ]
  },
  {
   "cell_type": "code",
   "execution_count": 85,
   "metadata": {},
   "outputs": [
    {
     "data": {
      "text/plain": [
       "<matplotlib.axes._subplots.AxesSubplot at 0x1a402e5f10>"
      ]
     },
     "execution_count": 85,
     "metadata": {},
     "output_type": "execute_result"
    },
    {
     "data": {
      "image/png": "[encoded data removed]",
      "text/plain": [
       "<Figure size 432x288 with 1 Axes>"
      ]
     },
     "metadata": {
      "needs_background": "light"
     },
     "output_type": "display_data"
    }
   ],
   "source": [
    "# Plot the real vs predicted values as a line chart\n",
    "# YOUR CODE HERE!\n",
    "stocks.plot()"
   ]
  },
  {
   "cell_type": "code",
   "execution_count": null,
   "metadata": {},
   "outputs": [],
   "source": []
  }
 ],
 "metadata": {
  "file_extension": ".py",
  "kernelspec": {
   "display_name": "Python 3",
   "language": "python",
   "name": "python3"
  },
  "language_info": {
   "codemirror_mode": {
    "name": "ipython",
    "version": 3
   },
   "file_extension": ".py",
   "mimetype": "text/x-python",
   "name": "python",
   "nbconvert_exporter": "python",
   "pygments_lexer": "ipython3",
   "version": "3.7.6"
  },
  "mimetype": "text/x-python",
  "name": "python",
  "npconvert_exporter": "python",
  "pygments_lexer": "ipython3",
  "version": 3
 },
 "nbformat": 4,
 "nbformat_minor": 4
}
